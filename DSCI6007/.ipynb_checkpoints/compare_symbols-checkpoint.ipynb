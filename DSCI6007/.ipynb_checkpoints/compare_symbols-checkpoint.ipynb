{
 "cells": [
  {
   "cell_type": "code",
   "execution_count": 149,
   "metadata": {
    "collapsed": false
   },
   "outputs": [],
   "source": [
    "from yahoo_finance import Share\n",
    "from pprint import pprint\n",
    "import pandas as pd\n",
    "from datetime import datetime, timedelta"
   ]
  },
  {
   "cell_type": "code",
   "execution_count": 150,
   "metadata": {
    "collapsed": false
   },
   "outputs": [
    {
     "data": {
      "text/plain": [
       "('2017-03-01', '2017-02-26')"
      ]
     },
     "execution_count": 150,
     "metadata": {},
     "output_type": "execute_result"
    }
   ],
   "source": [
    "#check datetime module, and type change date into string\n",
    "yesterday = (datetime.now() - timedelta(days=3)).strftime('%Y-%m-%d')\n",
    "today = datetime.now().strftime('%Y-%m-%d')\n",
    "today, yesterday"
   ]
  },
  {
   "cell_type": "code",
   "execution_count": 151,
   "metadata": {
    "collapsed": false
   },
   "outputs": [
    {
     "data": {
      "text/plain": [
       "dict"
      ]
     },
     "execution_count": 151,
     "metadata": {},
     "output_type": "execute_result"
    }
   ],
   "source": [
    "#set the share symbol; DX-Y.NYB is US Dollar Index\n",
    "dallar_index = Share('DX-Y.NYB')\n",
    "type(dallar_index.get_historical(yesterday, today)[0])"
   ]
  },
  {
   "cell_type": "code",
   "execution_count": 152,
   "metadata": {
    "collapsed": true
   },
   "outputs": [],
   "source": [
    "#set up current and 10years before date\n",
    "current = (datetime.now() - timedelta(days=1)).strftime('%Y-%m-%d')\n",
    "ten_before = (datetime.now() - timedelta(days=3650)).strftime('%Y-%m-%d')"
   ]
  },
  {
   "cell_type": "code",
   "execution_count": 153,
   "metadata": {
    "collapsed": false
   },
   "outputs": [
    {
     "data": {
      "text/plain": [
       "2547"
      ]
     },
     "execution_count": 153,
     "metadata": {},
     "output_type": "execute_result"
    }
   ],
   "source": [
    "#get 10years historical price for US dollar index\n",
    "dallar_index_10 = dallar_index.get_historical(ten_before, current)\n",
    "len(dallar_index_10)"
   ]
  },
  {
   "cell_type": "code",
   "execution_count": 154,
   "metadata": {
    "collapsed": false
   },
   "outputs": [
    {
     "data": {
      "text/plain": [
       "{'Adj_Close': '101.120003',\n",
       " 'Close': '101.120003',\n",
       " 'Date': '2017-02-28',\n",
       " 'High': '101.389999',\n",
       " 'Low': '100.779999',\n",
       " 'Open': '101.209999',\n",
       " 'Symbol': 'DX-Y.NYB',\n",
       " 'Volume': '000'}"
      ]
     },
     "execution_count": 154,
     "metadata": {},
     "output_type": "execute_result"
    }
   ],
   "source": [
    "dallar_index_10[0]"
   ]
  },
  {
   "cell_type": "code",
   "execution_count": null,
   "metadata": {
    "collapsed": true
   },
   "outputs": [],
   "source": []
  },
  {
   "cell_type": "code",
   "execution_count": null,
   "metadata": {
    "collapsed": true
   },
   "outputs": [],
   "source": []
  },
  {
   "cell_type": "code",
   "execution_count": 45,
   "metadata": {
    "collapsed": false
   },
   "outputs": [],
   "source": [
    "gold_index = pd.read_excel('gold_price.xls', names=['data', 'price']).iloc[20:, :].reset_index()\n",
    "gold_index = gold_index.drop(['index'], axis=1)"
   ]
  },
  {
   "cell_type": "code",
   "execution_count": 49,
   "metadata": {
    "collapsed": true
   },
   "outputs": [],
   "source": [
    "dallar_df.to_csv('dallar_index.csv', index=False)"
   ]
  },
  {
   "cell_type": "code",
   "execution_count": 50,
   "metadata": {
    "collapsed": false
   },
   "outputs": [
    {
     "data": {
      "text/html": [
       "<div>\n",
       "<table border=\"1\" class=\"dataframe\">\n",
       "  <thead>\n",
       "    <tr style=\"text-align: right;\">\n",
       "      <th></th>\n",
       "      <th>data</th>\n",
       "      <th>price</th>\n",
       "    </tr>\n",
       "  </thead>\n",
       "  <tbody>\n",
       "    <tr>\n",
       "      <th>0</th>\n",
       "      <td>2007-02-20 00:00:00</td>\n",
       "      <td>663.9</td>\n",
       "    </tr>\n",
       "    <tr>\n",
       "      <th>1</th>\n",
       "      <td>2007-02-21 00:00:00</td>\n",
       "      <td>661.25</td>\n",
       "    </tr>\n",
       "    <tr>\n",
       "      <th>2</th>\n",
       "      <td>2007-02-22 00:00:00</td>\n",
       "      <td>676.6</td>\n",
       "    </tr>\n",
       "    <tr>\n",
       "      <th>3</th>\n",
       "      <td>2007-02-23 00:00:00</td>\n",
       "      <td>683</td>\n",
       "    </tr>\n",
       "    <tr>\n",
       "      <th>4</th>\n",
       "      <td>2007-02-26 00:00:00</td>\n",
       "      <td>685.75</td>\n",
       "    </tr>\n",
       "  </tbody>\n",
       "</table>\n",
       "</div>"
      ],
      "text/plain": [
       "                  data   price\n",
       "0  2007-02-20 00:00:00   663.9\n",
       "1  2007-02-21 00:00:00  661.25\n",
       "2  2007-02-22 00:00:00   676.6\n",
       "3  2007-02-23 00:00:00     683\n",
       "4  2007-02-26 00:00:00  685.75"
      ]
     },
     "execution_count": 50,
     "metadata": {},
     "output_type": "execute_result"
    }
   ],
   "source": [
    "gold_index.head()"
   ]
  },
  {
   "cell_type": "code",
   "execution_count": 51,
   "metadata": {
    "collapsed": false
   },
   "outputs": [
    {
     "data": {
      "text/plain": [
       "datetime.datetime(2017, 2, 27, 11, 46, 56, 496350)"
      ]
     },
     "execution_count": 51,
     "metadata": {},
     "output_type": "execute_result"
    }
   ],
   "source": [
    "datetime.now()"
   ]
  },
  {
   "cell_type": "code",
   "execution_count": 160,
   "metadata": {
    "collapsed": false,
    "scrolled": true
   },
   "outputs": [
    {
     "data": {
      "text/plain": [
       "[{'Adj_Close': '78.269997',\n",
       "  'Close': '78.269997',\n",
       "  'Date': '2012-02-28',\n",
       "  'High': '78.669998',\n",
       "  'Low': '78.18',\n",
       "  'Open': '78.470001',\n",
       "  'Symbol': 'DX-Y.NYB',\n",
       "  'Volume': '000'}]"
      ]
     },
     "execution_count": 160,
     "metadata": {},
     "output_type": "execute_result"
    }
   ],
   "source": [
    "#testing how to get one day price data for real-time update\n",
    "dallar_index.get_historical('2012-02-28', '2012-02-28')"
   ]
  },
  {
   "cell_type": "code",
   "execution_count": 269,
   "metadata": {
    "collapsed": false
   },
   "outputs": [
    {
     "ename": "ImportError",
     "evalue": "No module named schedule",
     "output_type": "error",
     "traceback": [
      "\u001b[0;31m---------------------------------------------------------------------------\u001b[0m",
      "\u001b[0;31mImportError\u001b[0m                               Traceback (most recent call last)",
      "\u001b[0;32m<ipython-input-269-bd13132420ef>\u001b[0m in \u001b[0;36m<module>\u001b[0;34m()\u001b[0m\n\u001b[1;32m      1\u001b[0m \u001b[0;31m#!/usr/bin/env python\u001b[0m\u001b[0;34m\u001b[0m\u001b[0;34m\u001b[0m\u001b[0m\n\u001b[1;32m      2\u001b[0m \u001b[0;32mimport\u001b[0m \u001b[0mboto3\u001b[0m\u001b[0;34m\u001b[0m\u001b[0m\n\u001b[0;32m----> 3\u001b[0;31m \u001b[0;32mimport\u001b[0m \u001b[0mschedule\u001b[0m\u001b[0;34m\u001b[0m\u001b[0m\n\u001b[0m\u001b[1;32m      4\u001b[0m \u001b[0;32mimport\u001b[0m \u001b[0mtime\u001b[0m\u001b[0;34m\u001b[0m\u001b[0m\n\u001b[1;32m      5\u001b[0m \u001b[0;32mfrom\u001b[0m \u001b[0myahoo_finance\u001b[0m \u001b[0;32mimport\u001b[0m \u001b[0mShare\u001b[0m\u001b[0;34m\u001b[0m\u001b[0m\n",
      "\u001b[0;31mImportError\u001b[0m: No module named schedule"
     ]
    }
   ],
   "source": [
    "#!/usr/bin/env python\n",
    "import boto3\n",
    "import schedule\n",
    "import time\n",
    "from yahoo_finance import Share\n",
    "from pprint import pprint\n",
    "from datetime import datetime, timedelta\n",
    "\n",
    "#connet into firehose with boto3\n",
    "firehose_client = boto3.client('firehose', region_name='us-east-1')\n",
    "date = datetime.now()\n",
    "print(\"Ex) US Dallar Index: DX-Y.NYB | Apple: aapl | Google: googl\")\n",
    "symbol1 = raw_input(\"#1 Stock/Curreny: \")\n",
    "symbol2 = raw_input(\"#2 Stock/Curreny: \")\n",
    "symbol1 = Share(symbol1)\n",
    "symbol2 = Share(symbol2)\n",
    "days_before = int(raw_input(\"Previous Data(Days from today): \"))\n",
    "\n",
    "def yahoo_ten_years(symbols, date, days_before):\n",
    "    '''\n",
    "    INPUT: 10years history price for symbols.\n",
    "    OUTPUT: symbols price in str format inserted in S3 using Kinesis.\n",
    "    '''\n",
    "    counter = 0\n",
    "    date = date - timedelta(days=days_before)\n",
    "    for day in range(days_before): \n",
    "        if date.strftime('%Y-%m-%d') <= datetime.now().strftime('%Y-%m-%d'):\n",
    "            try:\n",
    "                sym = symbols.get_historical(date.strftime('%Y-%m-%d'), date.strftime('%Y-%m-%d'))\n",
    "                #response = firehose_client.put_record(DeliveryStreamName='yahoo_data', Record={'Data': str(sym)+'\\n'})\n",
    "                print(sym)\n",
    "                date += timedelta(days=1)\n",
    "                counter += 1\n",
    "                print(\"Inserted {} days {} data.\".format(counter, symbols.get_name()))\n",
    "        \n",
    "            except Exception:\n",
    "                print(\"It is Holiday or Weekend.\")\n",
    "                date += timedelta(days=1)\n",
    "\n",
    "def yahoo_current():\n",
    "    if date.strftime('%Y-%m-%d') <= datetime.now().strftime('%Y-%m-%d'):\n",
    "        try:\n",
    "            sym1 = symbol1.get_historical(date.strftime('%Y-%m-%d'), date.strftime('%Y-%m-%d'))\n",
    "            sym2 = symbol2.get_historical(date.strftime('%Y-%m-%d'), date.strftime('%Y-%m-%d'))\n",
    "            print(sym1)\n",
    "            print(sym2)\n",
    "        except Exception:\n",
    "            print(\"It is Holiday or Weekend.\")\n",
    "\n",
    "             \n",
    "if __name__ == '__main__':\n",
    "    if days_before == 0:\n",
    "        schedule.every(1).minutes.do(yahoo_current)\n",
    "        while True:\n",
    "            schedule.run_pending()\n",
    "    else:\n",
    "        yahoo_ten_years(symbol1, date, days_before)\n",
    "        yahoo_ten_years(symbol2, date, days_before)"
   ]
  },
  {
   "cell_type": "code",
   "execution_count": null,
   "metadata": {
    "collapsed": true
   },
   "outputs": [],
   "source": []
  }
 ],
 "metadata": {
  "kernelspec": {
   "display_name": "Python [dsci6007]",
   "language": "python",
   "name": "Python [dsci6007]"
  },
  "language_info": {
   "codemirror_mode": {
    "name": "ipython",
    "version": 2
   },
   "file_extension": ".py",
   "mimetype": "text/x-python",
   "name": "python",
   "nbconvert_exporter": "python",
   "pygments_lexer": "ipython2",
   "version": "2.7.12"
  }
 },
 "nbformat": 4,
 "nbformat_minor": 0
}
